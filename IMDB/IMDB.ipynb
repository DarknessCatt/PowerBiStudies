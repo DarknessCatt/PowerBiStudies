{
  "nbformat": 4,
  "nbformat_minor": 0,
  "metadata": {
    "colab": {
      "name": "IMDB.ipynb",
      "provenance": [],
      "collapsed_sections": []
    },
    "kernelspec": {
      "name": "python3",
      "display_name": "Python 3"
    }
  },
  "cells": [
    {
      "cell_type": "code",
      "metadata": {
        "id": "HayoDMzjZI2x"
      },
      "source": [
        "import pandas as pd\n",
        "from google.colab import files"
      ],
      "execution_count": 1,
      "outputs": []
    },
    {
      "cell_type": "code",
      "metadata": {
        "colab": {
          "base_uri": "https://localhost:8080/"
        },
        "id": "phlqHhAXZr6U",
        "outputId": "84699070-8c06-4224-8c54-e3dc6540a96a"
      },
      "source": [
        "data = pd.read_csv(\"https://raw.githubusercontent.com/DarknessCatt/PowerBiStudies/dev/IMDB/imdb_top_1000.csv\")\n",
        "print(data)"
      ],
      "execution_count": 2,
      "outputs": [
        {
          "output_type": "stream",
          "text": [
            "                                           Poster_Link  ...        Gross\n",
            "0    https://m.media-amazon.com/images/M/MV5BMDFkYT...  ...   28,341,469\n",
            "1    https://m.media-amazon.com/images/M/MV5BM2MyNj...  ...  134,966,411\n",
            "2    https://m.media-amazon.com/images/M/MV5BMTMxNT...  ...  534,858,444\n",
            "3    https://m.media-amazon.com/images/M/MV5BMWMwMG...  ...   57,300,000\n",
            "4    https://m.media-amazon.com/images/M/MV5BMWU4N2...  ...    4,360,000\n",
            "..                                                 ...  ...          ...\n",
            "995  https://m.media-amazon.com/images/M/MV5BNGEwMT...  ...          NaN\n",
            "996  https://m.media-amazon.com/images/M/MV5BODk3Yj...  ...          NaN\n",
            "997  https://m.media-amazon.com/images/M/MV5BM2U3Yz...  ...   30,500,000\n",
            "998  https://m.media-amazon.com/images/M/MV5BZTBmMj...  ...          NaN\n",
            "999  https://m.media-amazon.com/images/M/MV5BMTY5OD...  ...          NaN\n",
            "\n",
            "[1000 rows x 16 columns]\n"
          ],
          "name": "stdout"
        }
      ]
    },
    {
      "cell_type": "code",
      "metadata": {
        "id": "EFAFtkO1bhqM"
      },
      "source": [
        "genres_dict = {}\n",
        "genre_relation = []\n",
        "\n",
        "actors_dict = {}\n",
        "actor_relation = []\n",
        "for _, item in data.iterrows():\n",
        "  cur_genres = [i.strip() for i in item[\"Genre\"].split(',')]\n",
        "\n",
        "  for genre in cur_genres:\n",
        "    if not genre in genres_dict:\n",
        "      genres_dict[genre] = len(genres_dict)\n",
        "\n",
        "    genre_relation.append( (item[\"Series_Title\"], item[\"Released_Year\"], genres_dict[genre]) )\n",
        "\n",
        "  if not item[\"Star1\"] in actors_dict:\n",
        "    actors_dict[item[\"Star1\"]] = len(actors_dict)\n",
        "\n",
        "  if not item[\"Star2\"] in actors_dict:\n",
        "    actors_dict[item[\"Star2\"]] = len(actors_dict)\n",
        "\n",
        "  if not item[\"Star3\"] in actors_dict:\n",
        "    actors_dict[item[\"Star3\"]] = len(actors_dict)\n",
        "\n",
        "  if not item[\"Star4\"] in actors_dict:\n",
        "    actors_dict[item[\"Star4\"]] = len(actors_dict)\n",
        "\n",
        "  actor_relation.append( (item[\"Series_Title\"], item[\"Released_Year\"], actors_dict[item[\"Star1\"]]) )\n",
        "  actor_relation.append( (item[\"Series_Title\"], item[\"Released_Year\"], actors_dict[item[\"Star2\"]]) )\n",
        "  actor_relation.append( (item[\"Series_Title\"], item[\"Released_Year\"], actors_dict[item[\"Star3\"]]) )\n",
        "  actor_relation.append( (item[\"Series_Title\"], item[\"Released_Year\"], actors_dict[item[\"Star4\"]]) )"
      ],
      "execution_count": 3,
      "outputs": []
    },
    {
      "cell_type": "code",
      "metadata": {
        "id": "gMAZF8sghqfg"
      },
      "source": [
        "genres = []\n",
        "\n",
        "for item in genres_dict.keys():\n",
        "  genres.append((genres_dict[item], item))\n",
        "\n",
        "actors = []\n",
        "\n",
        "for item in actors_dict.keys():\n",
        "  actors.append((actors_dict[item], item))"
      ],
      "execution_count": 4,
      "outputs": []
    },
    {
      "cell_type": "code",
      "metadata": {
        "colab": {
          "base_uri": "https://localhost:8080/",
          "height": 17
        },
        "id": "uJOARrwudZw1",
        "outputId": "8193c98f-915d-4552-c744-73fe4b45522b"
      },
      "source": [
        "genre_csv = pd.DataFrame.from_records(genres, columns=[\"Genre_Id\", \"Genre\"])\n",
        "genre_relation_csv = pd.DataFrame.from_records(genre_relation, columns=[\"Series_Title\", \"Released_Year\", \"Genre_Id\"])\n",
        "\n",
        "genre_csv.to_csv(\"genre.csv\", index=False)\n",
        "genre_relation_csv.to_csv(\"genre_relation.csv\", index=False)\n",
        "\n",
        "#files.download(\"genre.csv\")\n",
        "#files.download(\"genre_relation.csv\")\n",
        "\n",
        "actor_csv = pd.DataFrame.from_records(actors, columns=[\"Actor_Id\", \"Actor\"])\n",
        "actor_relation_csv = pd.DataFrame.from_records(actor_relation, columns=[\"Series_Title\", \"Released_Year\", \"Actor_Id\"])\n",
        "\n",
        "actor_csv.to_csv(\"actor.csv\", index=False)\n",
        "actor_relation_csv.to_csv(\"actor_relation.csv\", index=False)\n",
        "\n",
        "files.download(\"actor.csv\")\n",
        "files.download(\"actor_relation.csv\")"
      ],
      "execution_count": 5,
      "outputs": [
        {
          "output_type": "display_data",
          "data": {
            "application/javascript": [
              "\n",
              "    async function download(id, filename, size) {\n",
              "      if (!google.colab.kernel.accessAllowed) {\n",
              "        return;\n",
              "      }\n",
              "      const div = document.createElement('div');\n",
              "      const label = document.createElement('label');\n",
              "      label.textContent = `Downloading \"${filename}\": `;\n",
              "      div.appendChild(label);\n",
              "      const progress = document.createElement('progress');\n",
              "      progress.max = size;\n",
              "      div.appendChild(progress);\n",
              "      document.body.appendChild(div);\n",
              "\n",
              "      const buffers = [];\n",
              "      let downloaded = 0;\n",
              "\n",
              "      const channel = await google.colab.kernel.comms.open(id);\n",
              "      // Send a message to notify the kernel that we're ready.\n",
              "      channel.send({})\n",
              "\n",
              "      for await (const message of channel.messages) {\n",
              "        // Send a message to notify the kernel that we're ready.\n",
              "        channel.send({})\n",
              "        if (message.buffers) {\n",
              "          for (const buffer of message.buffers) {\n",
              "            buffers.push(buffer);\n",
              "            downloaded += buffer.byteLength;\n",
              "            progress.value = downloaded;\n",
              "          }\n",
              "        }\n",
              "      }\n",
              "      const blob = new Blob(buffers, {type: 'application/binary'});\n",
              "      const a = document.createElement('a');\n",
              "      a.href = window.URL.createObjectURL(blob);\n",
              "      a.download = filename;\n",
              "      div.appendChild(a);\n",
              "      a.click();\n",
              "      div.remove();\n",
              "    }\n",
              "  "
            ],
            "text/plain": [
              "<IPython.core.display.Javascript object>"
            ]
          },
          "metadata": {
            "tags": []
          }
        },
        {
          "output_type": "display_data",
          "data": {
            "application/javascript": [
              "download(\"download_393b8960-7f08-43f0-96dd-a0834313c9f4\", \"actor.csv\", 51151)"
            ],
            "text/plain": [
              "<IPython.core.display.Javascript object>"
            ]
          },
          "metadata": {
            "tags": []
          }
        },
        {
          "output_type": "display_data",
          "data": {
            "application/javascript": [
              "\n",
              "    async function download(id, filename, size) {\n",
              "      if (!google.colab.kernel.accessAllowed) {\n",
              "        return;\n",
              "      }\n",
              "      const div = document.createElement('div');\n",
              "      const label = document.createElement('label');\n",
              "      label.textContent = `Downloading \"${filename}\": `;\n",
              "      div.appendChild(label);\n",
              "      const progress = document.createElement('progress');\n",
              "      progress.max = size;\n",
              "      div.appendChild(progress);\n",
              "      document.body.appendChild(div);\n",
              "\n",
              "      const buffers = [];\n",
              "      let downloaded = 0;\n",
              "\n",
              "      const channel = await google.colab.kernel.comms.open(id);\n",
              "      // Send a message to notify the kernel that we're ready.\n",
              "      channel.send({})\n",
              "\n",
              "      for await (const message of channel.messages) {\n",
              "        // Send a message to notify the kernel that we're ready.\n",
              "        channel.send({})\n",
              "        if (message.buffers) {\n",
              "          for (const buffer of message.buffers) {\n",
              "            buffers.push(buffer);\n",
              "            downloaded += buffer.byteLength;\n",
              "            progress.value = downloaded;\n",
              "          }\n",
              "        }\n",
              "      }\n",
              "      const blob = new Blob(buffers, {type: 'application/binary'});\n",
              "      const a = document.createElement('a');\n",
              "      a.href = window.URL.createObjectURL(blob);\n",
              "      a.download = filename;\n",
              "      div.appendChild(a);\n",
              "      a.click();\n",
              "      div.remove();\n",
              "    }\n",
              "  "
            ],
            "text/plain": [
              "<IPython.core.display.Javascript object>"
            ]
          },
          "metadata": {
            "tags": []
          }
        },
        {
          "output_type": "display_data",
          "data": {
            "application/javascript": [
              "download(\"download_a0df4e95-f81e-41c1-b74e-b161bf5035e3\", \"actor_relation.csv\", 103944)"
            ],
            "text/plain": [
              "<IPython.core.display.Javascript object>"
            ]
          },
          "metadata": {
            "tags": []
          }
        }
      ]
    }
  ]
}