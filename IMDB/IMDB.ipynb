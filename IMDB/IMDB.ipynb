{
  "nbformat": 4,
  "nbformat_minor": 0,
  "metadata": {
    "colab": {
      "name": "IMDB.ipynb",
      "provenance": [],
      "collapsed_sections": []
    },
    "kernelspec": {
      "name": "python3",
      "display_name": "Python 3"
    }
  },
  "cells": [
    {
      "cell_type": "code",
      "metadata": {
        "id": "HayoDMzjZI2x"
      },
      "source": [
        "import pandas as pd\n",
        "from google.colab import files"
      ],
      "execution_count": 1,
      "outputs": []
    },
    {
      "cell_type": "code",
      "metadata": {
        "colab": {
          "base_uri": "https://localhost:8080/"
        },
        "id": "phlqHhAXZr6U",
        "outputId": "862a7f46-c31f-4f15-e7e3-b1ec01c5d290"
      },
      "source": [
        "data = pd.read_csv(\"https://raw.githubusercontent.com/DarknessCatt/PowerBiStudies/dev/IMDB/imdb_top_1000.csv\")\n",
        "print(data)"
      ],
      "execution_count": 2,
      "outputs": [
        {
          "output_type": "stream",
          "text": [
            "                                           Poster_Link  ...        Gross\n",
            "0    https://m.media-amazon.com/images/M/MV5BMDFkYT...  ...   28,341,469\n",
            "1    https://m.media-amazon.com/images/M/MV5BM2MyNj...  ...  134,966,411\n",
            "2    https://m.media-amazon.com/images/M/MV5BMTMxNT...  ...  534,858,444\n",
            "3    https://m.media-amazon.com/images/M/MV5BMWMwMG...  ...   57,300,000\n",
            "4    https://m.media-amazon.com/images/M/MV5BMWU4N2...  ...    4,360,000\n",
            "..                                                 ...  ...          ...\n",
            "995  https://m.media-amazon.com/images/M/MV5BNGEwMT...  ...          NaN\n",
            "996  https://m.media-amazon.com/images/M/MV5BODk3Yj...  ...          NaN\n",
            "997  https://m.media-amazon.com/images/M/MV5BM2U3Yz...  ...   30,500,000\n",
            "998  https://m.media-amazon.com/images/M/MV5BZTBmMj...  ...          NaN\n",
            "999  https://m.media-amazon.com/images/M/MV5BMTY5OD...  ...          NaN\n",
            "\n",
            "[1000 rows x 16 columns]\n"
          ],
          "name": "stdout"
        }
      ]
    },
    {
      "cell_type": "code",
      "metadata": {
        "colab": {
          "base_uri": "https://localhost:8080/"
        },
        "id": "EFAFtkO1bhqM",
        "outputId": "9aac49bb-3b68-4301-b15b-40b6bc31963d"
      },
      "source": [
        "genres_dict = {}\n",
        "genre_relation = []\n",
        "for _, item in data.iterrows():\n",
        "  cur_genres = [i.strip() for i in item[\"Genre\"].split(',')]\n",
        "\n",
        "  for genre in cur_genres:\n",
        "    if not genre in genres_dict:\n",
        "      genres_dict[genre] = len(genres_dict)\n",
        "\n",
        "    genre_relation.append((item[\"Series_Title\"], item[\"Released_Year\"], genres_dict[genre]))\n",
        "\n",
        "print(genres_dict)"
      ],
      "execution_count": 3,
      "outputs": [
        {
          "output_type": "stream",
          "text": [
            "{'Drama': 0, 'Crime': 1, 'Action': 2, 'Adventure': 3, 'Biography': 4, 'History': 5, 'Sci-Fi': 6, 'Romance': 7, 'Western': 8, 'Fantasy': 9, 'Comedy': 10, 'Thriller': 11, 'Animation': 12, 'Family': 13, 'War': 14, 'Mystery': 15, 'Music': 16, 'Horror': 17, 'Musical': 18, 'Film-Noir': 19, 'Sport': 20}\n"
          ],
          "name": "stdout"
        }
      ]
    },
    {
      "cell_type": "code",
      "metadata": {
        "colab": {
          "base_uri": "https://localhost:8080/"
        },
        "id": "gMAZF8sghqfg",
        "outputId": "fc0ac909-53a0-45b9-fd71-20b70036d9f1"
      },
      "source": [
        "genres = []\n",
        "\n",
        "for item in genres_dict.keys():\n",
        "  genres.append((genres_dict[item], item))\n",
        "\n",
        "print(genres)"
      ],
      "execution_count": 4,
      "outputs": [
        {
          "output_type": "stream",
          "text": [
            "[(0, 'Drama'), (1, 'Crime'), (2, 'Action'), (3, 'Adventure'), (4, 'Biography'), (5, 'History'), (6, 'Sci-Fi'), (7, 'Romance'), (8, 'Western'), (9, 'Fantasy'), (10, 'Comedy'), (11, 'Thriller'), (12, 'Animation'), (13, 'Family'), (14, 'War'), (15, 'Mystery'), (16, 'Music'), (17, 'Horror'), (18, 'Musical'), (19, 'Film-Noir'), (20, 'Sport')]\n"
          ],
          "name": "stdout"
        }
      ]
    },
    {
      "cell_type": "code",
      "metadata": {
        "colab": {
          "base_uri": "https://localhost:8080/",
          "height": 17
        },
        "id": "uJOARrwudZw1",
        "outputId": "6af2b2ea-e9b7-4104-a6ee-4e911fd27f37"
      },
      "source": [
        "genre_csv = pd.DataFrame.from_records(genres, columns=[\"Genre_Id\", \"Genre\"])\n",
        "genre_relation_csv = pd.DataFrame.from_records(genre_relation, columns=[\"Series_Title\", \"Released_Year\", \"Genre_Id\"])\n",
        "\n",
        "genre_csv.to_csv(\"genre.csv\", index=False)\n",
        "genre_relation_csv.to_csv(\"genre_relation.csv\", index=False)\n",
        "\n",
        "files.download(\"genre.csv\")\n",
        "files.download(\"genre_relation.csv\")"
      ],
      "execution_count": 7,
      "outputs": [
        {
          "output_type": "display_data",
          "data": {
            "application/javascript": [
              "\n",
              "    async function download(id, filename, size) {\n",
              "      if (!google.colab.kernel.accessAllowed) {\n",
              "        return;\n",
              "      }\n",
              "      const div = document.createElement('div');\n",
              "      const label = document.createElement('label');\n",
              "      label.textContent = `Downloading \"${filename}\": `;\n",
              "      div.appendChild(label);\n",
              "      const progress = document.createElement('progress');\n",
              "      progress.max = size;\n",
              "      div.appendChild(progress);\n",
              "      document.body.appendChild(div);\n",
              "\n",
              "      const buffers = [];\n",
              "      let downloaded = 0;\n",
              "\n",
              "      const channel = await google.colab.kernel.comms.open(id);\n",
              "      // Send a message to notify the kernel that we're ready.\n",
              "      channel.send({})\n",
              "\n",
              "      for await (const message of channel.messages) {\n",
              "        // Send a message to notify the kernel that we're ready.\n",
              "        channel.send({})\n",
              "        if (message.buffers) {\n",
              "          for (const buffer of message.buffers) {\n",
              "            buffers.push(buffer);\n",
              "            downloaded += buffer.byteLength;\n",
              "            progress.value = downloaded;\n",
              "          }\n",
              "        }\n",
              "      }\n",
              "      const blob = new Blob(buffers, {type: 'application/binary'});\n",
              "      const a = document.createElement('a');\n",
              "      a.href = window.URL.createObjectURL(blob);\n",
              "      a.download = filename;\n",
              "      div.appendChild(a);\n",
              "      a.click();\n",
              "      div.remove();\n",
              "    }\n",
              "  "
            ],
            "text/plain": [
              "<IPython.core.display.Javascript object>"
            ]
          },
          "metadata": {
            "tags": []
          }
        },
        {
          "output_type": "display_data",
          "data": {
            "application/javascript": [
              "download(\"download_a09e69f5-9c3f-4b5f-9f2a-9b05309582d2\", \"genre.csv\", 228)"
            ],
            "text/plain": [
              "<IPython.core.display.Javascript object>"
            ]
          },
          "metadata": {
            "tags": []
          }
        },
        {
          "output_type": "display_data",
          "data": {
            "application/javascript": [
              "\n",
              "    async function download(id, filename, size) {\n",
              "      if (!google.colab.kernel.accessAllowed) {\n",
              "        return;\n",
              "      }\n",
              "      const div = document.createElement('div');\n",
              "      const label = document.createElement('label');\n",
              "      label.textContent = `Downloading \"${filename}\": `;\n",
              "      div.appendChild(label);\n",
              "      const progress = document.createElement('progress');\n",
              "      progress.max = size;\n",
              "      div.appendChild(progress);\n",
              "      document.body.appendChild(div);\n",
              "\n",
              "      const buffers = [];\n",
              "      let downloaded = 0;\n",
              "\n",
              "      const channel = await google.colab.kernel.comms.open(id);\n",
              "      // Send a message to notify the kernel that we're ready.\n",
              "      channel.send({})\n",
              "\n",
              "      for await (const message of channel.messages) {\n",
              "        // Send a message to notify the kernel that we're ready.\n",
              "        channel.send({})\n",
              "        if (message.buffers) {\n",
              "          for (const buffer of message.buffers) {\n",
              "            buffers.push(buffer);\n",
              "            downloaded += buffer.byteLength;\n",
              "            progress.value = downloaded;\n",
              "          }\n",
              "        }\n",
              "      }\n",
              "      const blob = new Blob(buffers, {type: 'application/binary'});\n",
              "      const a = document.createElement('a');\n",
              "      a.href = window.URL.createObjectURL(blob);\n",
              "      a.download = filename;\n",
              "      div.appendChild(a);\n",
              "      a.click();\n",
              "      div.remove();\n",
              "    }\n",
              "  "
            ],
            "text/plain": [
              "<IPython.core.display.Javascript object>"
            ]
          },
          "metadata": {
            "tags": []
          }
        },
        {
          "output_type": "display_data",
          "data": {
            "application/javascript": [
              "download(\"download_798b7b22-3e31-4c6f-a1a3-a80adda4a2d4\", \"genre_relation.csv\", 60607)"
            ],
            "text/plain": [
              "<IPython.core.display.Javascript object>"
            ]
          },
          "metadata": {
            "tags": []
          }
        }
      ]
    }
  ]
}